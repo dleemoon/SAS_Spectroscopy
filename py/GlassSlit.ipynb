{
 "cells": [
  {
   "cell_type": "markdown",
   "metadata": {},
   "source": [
    "Glass Slit\n",
    "==========\n",
    "\n"
   ]
  },
  {
   "cell_type": "code",
   "execution_count": 18,
   "metadata": {},
   "outputs": [],
   "source": [
    "import numpy as np\n",
    "import pandas as pd\n",
    "air = 1.0003\n",
    "bk7 = 1.5300\n",
    "thickness = 2   # milimeters\n",
    "seeing = 2.0 # [arcseconds]"
   ]
  },
  {
   "cell_type": "markdown",
   "metadata": {},
   "source": []
  },
  {
   "cell_type": "code",
   "execution_count": 31,
   "metadata": {},
   "outputs": [],
   "source": [
    "def focallen(fratio,diameter):\n",
    "    \"\"\"Convert diameters [inches] into focal length [mm]\"\"\"\n",
    "    return diameter*25.4 * fratio\n"
   ]
  },
  {
   "cell_type": "code",
   "execution_count": 32,
   "metadata": {},
   "outputs": [],
   "source": [
    "fratios    = np.array([11.0, 10.0, 8.0, 7.0, 6.7,5.0, 4.0])\n",
    "diameters  = np.array([11.0,10.0,6.0,6.0,14.5,10.0,24.0])\n",
    "focallens  = focallen(fratios,diameters)\n",
    "angles     = np.arctan(1.0/fratios)   # radians\n",
    "halfangles = np.sqrt(1.0 - np.cos(angles/2.0))"
   ]
  },
  {
   "cell_type": "code",
   "execution_count": 33,
   "metadata": {},
   "outputs": [
    {
     "name": "stdout",
     "output_type": "stream",
     "text": [
      "   f/ratios  diameter [in]  fl [mm]  angles [rad]  halfangles [rad]\n",
      "0      11.0           11.0  3073.40      0.090660          0.032050\n",
      "1      10.0           10.0  2540.00      0.099669          0.035235\n",
      "2       8.0            6.0  1219.20      0.124355          0.043959\n",
      "3       7.0            6.0  1066.80      0.141897          0.050158\n",
      "4       6.7           14.5  2467.61      0.148160          0.052371\n",
      "5       5.0           10.0  1270.00      0.197396          0.069762\n",
      "6       4.0           24.0  2438.40      0.244979          0.086559\n"
     ]
    }
   ],
   "source": [
    "data=list(zip(fratios,diameters,focallens,angles,halfangles))\n",
    "df = pd.DataFrame(data,columns=[\"f/ratios\",\"diameter [in]\",\"fl [mm]\",\"angles [rad]\",\"halfangles [rad]\"])\n",
    "print(df)"
   ]
  },
  {
   "cell_type": "code",
   "execution_count": 25,
   "metadata": {},
   "outputs": [],
   "source": [
    "def refraction(n1,n2,angles):\n",
    "    \"\"\"return array of corresponding output angles\"\"\"\n",
    "    return np.arcsin(n1/n2 * np.sin(angles))\n"
   ]
  },
  {
   "cell_type": "code",
   "execution_count": 27,
   "metadata": {},
   "outputs": [
    {
     "name": "stdout",
     "output_type": "stream",
     "text": [
      "[0.23690424 0.26040238 0.32472767 0.37036894 0.38664849 0.51429153\n",
      " 0.6369588 ]\n"
     ]
    }
   ],
   "source": [
    "deflections = refraction(air,bk7,angles)\n",
    "newdisc = seeing = 2.0 * thickness * deflections\n",
    "print(newdisc)"
   ]
  }
 ],
 "metadata": {
  "kernelspec": {
   "display_name": "Python 3",
   "language": "python",
   "name": "python3"
  },
  "language_info": {
   "codemirror_mode": {
    "name": "ipython",
    "version": 3
   },
   "file_extension": ".py",
   "mimetype": "text/x-python",
   "name": "python",
   "nbconvert_exporter": "python",
   "pygments_lexer": "ipython3",
   "version": "3.6.7"
  }
 },
 "nbformat": 4,
 "nbformat_minor": 2
}
